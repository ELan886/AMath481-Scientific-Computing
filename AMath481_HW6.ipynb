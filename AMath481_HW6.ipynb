{
 "cells": [
  {
   "cell_type": "code",
   "execution_count": 9,
   "metadata": {},
   "outputs": [],
   "source": [
    "import numpy as np\n",
    "import matplotlib.pyplot as plt\n",
    "from numpy import *\n",
    "from scipy.fftpack import fft2, ifft2\n",
    "from scipy.integrate import solve_ivp\n",
    "from matplotlib.animation import FuncAnimation\n",
    "from numpy.polynomial.chebyshev import Chebyshev\n",
    "from numpy.polynomial.chebyshev import chebval, chebfit\n",
    "from scipy.linalg import solve_banded"
   ]
  },
  {
   "cell_type": "code",
   "execution_count": 2,
   "metadata": {},
   "outputs": [],
   "source": [
    "Lx, Ly = 20, 20\n",
    "n = 64\n",
    "beta = 1\n",
    "D1, D2 = 0.1, 0.1\n",
    "m = 1\n",
    "tspan = np.arange(0,4.5,0.5)\n",
    "\n",
    "x2 = np.linspace(-Lx/2, Lx/2, n + 1)\n",
    "x = x2[:n]\n",
    "y2 = np.linspace(-Ly/2, Ly/2, n + 1)\n",
    "y = y2[:n]\n",
    "X, Y = np.meshgrid(x, y)\n",
    "u = np.tanh(np.sqrt(X**2+Y**2))*np.cos(m*np.angle(X+1j*Y) - (np.sqrt(X**2+Y**2)))\n",
    "v = np.tanh(np.sqrt(X**2+Y**2))*np.sin(m*np.angle(X+1j*Y) - (np.sqrt(X**2+Y**2)))\n",
    "\n",
    "\n",
    "kx = (2*np.pi/Lx) * np.concatenate((np.arange(0, n/2), np.arange(-n/2, 0)))\n",
    "ky = (2*np.pi/Ly) * np.concatenate((np.arange(0, n/2), np.arange(-n/2, 0)))\n",
    "kx[0] = 1e-6\n",
    "ky[0] = 1e-6\n",
    "KX, KY = np.meshgrid(kx, ky)\n",
    "K = KX**2 + KY**2\n"
   ]
  },
  {
   "cell_type": "code",
   "execution_count": 3,
   "metadata": {},
   "outputs": [
    {
     "data": {
      "text/plain": [
       "(8192, 9)"
      ]
     },
     "execution_count": 3,
     "metadata": {},
     "output_type": "execute_result"
    }
   ],
   "source": [
    "def spc_rhs(t, y, n, beta, K, D1, D2):\n",
    "    U_hat = y[:n*n].reshape((n, n))\n",
    "    V_hat = y[n*n:].reshape((n, n))\n",
    "\n",
    "    U = np.real(ifft2(U_hat))\n",
    "    V = np.real(ifft2(V_hat))\n",
    "\n",
    "    A = U**2 + V**2\n",
    "    lambda_A = 1 - A\n",
    "    omega_A = -beta*A\n",
    "\n",
    "    reaction_U = fft2(lambda_A * U - omega_A * V)\n",
    "    reaction_V = fft2(omega_A * U + lambda_A * V)\n",
    "\n",
    "    diffusion_U = -K * U_hat * D1\n",
    "    diffusion_V = -K * V_hat * D2\n",
    "\n",
    "    du_dt = reaction_U + diffusion_U\n",
    "    dv_dt = reaction_V + diffusion_V\n",
    "\n",
    "    rhs = np.hstack([du_dt.flatten(), dv_dt.flatten()])\n",
    "    return rhs\n",
    "\n",
    "U = fft2(u)\n",
    "V = fft2(v)\n",
    "wt = np.hstack([U.flatten(), V.flatten()])\n",
    "\n",
    "wtsol = solve_ivp(\n",
    "    spc_rhs, [tspan[0], tspan[-1]], wt, t_eval=tspan,\n",
    "    args=(n, beta, K, D1, D2), method='RK45'\n",
    ")\n",
    "\n",
    "A1 = wtsol.y\n",
    "A1.shape"
   ]
  },
  {
   "cell_type": "code",
   "execution_count": 4,
   "metadata": {},
   "outputs": [
    {
     "data": {
      "text/plain": [
       "array([[ 24.94003847  +0.j        ,  12.73268299  +0.j        ,\n",
       "         -1.38095598  +0.j        , ..., -64.02389647  +0.j        ,\n",
       "        -67.76356741  +0.j        , -61.18058974  +0.j        ],\n",
       "       [-18.55666362 -58.16631091j, -42.51586944 -46.91292244j,\n",
       "        -60.80795253 -25.74803902j, ..., -26.39439597+113.08288984j,\n",
       "          6.86544434+123.00045628j,  41.4436393 +110.05531209j],\n",
       "       [-16.04755868 +32.82798293j, -22.03971648 -45.79777396j,\n",
       "        -23.23089505-104.14171583j, ..., -25.03391682 -92.65273136j,\n",
       "        -29.2936105  -40.95948731j, -31.3712619  +15.69868908j],\n",
       "       ...,\n",
       "       [ 24.73021466-566.77472255j,  34.94179045-331.37291658j,\n",
       "         38.82924248 -49.7842318j , ...,   4.99619196+602.39629491j,\n",
       "         -9.93322885+490.73690642j, -25.6299042 +281.79202092j],\n",
       "       [ 25.33720124-361.63379183j,  43.00958768-453.71174572j,\n",
       "         51.93221654-447.84156197j, ..., -30.76392977+266.44218727j,\n",
       "        -58.45411318+429.16535845j, -74.0191717 +505.3153223j ],\n",
       "       [ -6.4753501  +39.62454543j,  15.86720969 -58.33585489j,\n",
       "         37.73898369-154.31488311j, ...,  37.9440317 -185.18848628j,\n",
       "          8.26766066 -70.71215031j, -26.92595056 +70.00385913j]])"
      ]
     },
     "execution_count": 4,
     "metadata": {},
     "output_type": "execute_result"
    }
   ],
   "source": [
    "A1"
   ]
  },
  {
   "cell_type": "code",
   "execution_count": 176,
   "metadata": {},
   "outputs": [],
   "source": [
    "# time_points = wtsol.t\n",
    "# u_sol = A1[: (n)**2, :].reshape((n, n, -1))\n",
    "# v_sol = A1[(n)**2 :, :].reshape((n, n, -1))\n",
    "\n",
    "# for i, t in enumerate(time_points):\n",
    "#     plt.figure()\n",
    "#     plt.contourf(X, Y, u_sol[:, :, i], levels=20, cmap=\"viridis\")\n",
    "#     plt.colorbar()\n",
    "#     plt.title(f\"U at t={t}\")\n",
    "#     plt.xlabel(\"x\")\n",
    "#     plt.ylabel(\"y\")\n",
    "#     plt.show()\n",
    "\n",
    "#     plt.figure()\n",
    "#     plt.contourf(X, Y, v_sol[:, :, i], levels=20, cmap=\"plasma\")\n",
    "#     plt.colorbar()\n",
    "#     plt.title(f\"V at t={t}\")\n",
    "#     plt.xlabel(\"x\")\n",
    "#     plt.ylabel(\"y\")\n",
    "#     plt.show()"
   ]
  },
  {
   "cell_type": "code",
   "execution_count": 24,
   "metadata": {},
   "outputs": [],
   "source": [
    "Lx, Ly = 20, 20\n",
    "n = 30\n",
    "domain = [-1, 1]\n",
    "beta = 1\n",
    "D1, D2 = 0.1, 0.1\n",
    "m = 1\n",
    "tspan = np.arange(0,4.5,0.5)\n",
    "\n",
    "def cheb(N):\n",
    "\tif N==0: \n",
    "\t\tD = 0.; x = 1.\n",
    "\telse:\n",
    "\t\tn = arange(0,N+1)\n",
    "\t\tx = cos(pi*n/N).reshape(N+1,1) \n",
    "\t\tc = (hstack(( [2.], ones(N-1), [2.]))*(-1)**n).reshape(N+1,1)\n",
    "\t\tX = tile(x,(1,N+1))\n",
    "\t\tdX = X - X.T\n",
    "\t\tD = dot(c,1./c.T)/(dX+eye(N+1))\n",
    "\t\tD -= diag(sum(D.T,axis=0))\n",
    "\treturn D, x.reshape(N+1)\n",
    "\n",
    "\n",
    "D, x_cheb =  cheb(n)\n",
    "D[n,:] = 0\n",
    "D[0,:] = 0\n",
    "Dxx = np.dot(D,D)/(20/2)**2\n",
    "x_cheb *= 10\n",
    "X, Y = np.meshgrid(x_cheb, x_cheb)\n",
    "I = np.eye(len(Dxx))\n",
    "L = kron(I,Dxx) + kron(Dxx,I)\n",
    "\n",
    "N = (n+1)*(n+1)\n",
    "\n",
    "u = np.tanh(np.sqrt(X**2+Y**2))*np.cos(m*np.angle(X+1j*Y) - (np.sqrt(X**2+Y**2)))\n",
    "v = np.tanh(np.sqrt(X**2+Y**2))*np.sin(m*np.angle(X+1j*Y) - (np.sqrt(X**2+Y**2)))"
   ]
  },
  {
   "cell_type": "code",
   "execution_count": 25,
   "metadata": {},
   "outputs": [
    {
     "data": {
      "text/plain": [
       "array([[ 0.70358468,  0.27678435, -0.21775865, ..., -0.79689015,\n",
       "        -0.40972859,  0.07776933],\n",
       "       [ 0.73241275,  0.47188952,  0.07344742, ..., -0.96577657,\n",
       "        -0.78500366, -0.4261521 ],\n",
       "       [ 0.81058026,  0.37605887, -0.11123233, ..., -0.84008598,\n",
       "        -0.49565779, -0.03085913],\n",
       "       ...,\n",
       "       [ 0.58562756,  0.91352592,  0.97914313, ..., -0.50294695,\n",
       "        -0.84298442, -0.97634716],\n",
       "       [ 0.6808609 ,  0.87018536,  0.97997159, ..., -0.16453512,\n",
       "        -0.5878894 , -0.88455009],\n",
       "       [ 0.71061143,  0.96093661,  0.97601586, ..., -0.60413504,\n",
       "        -0.91222169, -0.99697897]])"
      ]
     },
     "execution_count": 25,
     "metadata": {},
     "output_type": "execute_result"
    }
   ],
   "source": [
    "def spc_rhs2(t, y, n, beta, D, D1, D2):\n",
    "    U = y[0:N]\n",
    "    V = y[N:]\n",
    "\n",
    "    A = U**2 + V**2\n",
    "    lambda_A = 1 - A\n",
    "    omega_A = -beta * A\n",
    "\n",
    "    reaction_U = lambda_A * U - omega_A * V\n",
    "    reaction_V = omega_A * U + lambda_A * V\n",
    "\n",
    "    diffusion_U = D1 * np.dot(L,U)\n",
    "    diffusion_V = D2 * np.dot(L,V)\n",
    "\n",
    "    du_dt = reaction_U + diffusion_U\n",
    "    dv_dt = reaction_V + diffusion_V\n",
    "\n",
    "    rhs = np.hstack([du_dt.flatten(), dv_dt.flatten()])\n",
    "    return rhs\n",
    "\n",
    "wt2 = np.hstack([u.flatten(), v.flatten()])\n",
    "wtsol2 = solve_ivp(\n",
    "    spc_rhs2, [tspan[0], tspan[-1]], wt2, t_eval=tspan,\n",
    "    args=(n, beta, D, D1, D2), method='RK45'\n",
    ")\n",
    "\n",
    "A2 = wtsol2.y\n",
    "A2\n",
    "# def plot_no_flux(sol, x, title):\n",
    "#     n = len(x)\n",
    "#     U = sol.y[:n * n, -1].reshape((n, n))\n",
    "#     plt.contourf(x, x, U, levels=50, cmap='viridis')\n",
    "#     plt.colorbar()\n",
    "#     plt.title(title)\n",
    "#     plt.xlabel('x')\n",
    "#     plt.ylabel('y')\n",
    "#     plt.show()\n",
    "\n",
    "# plot_no_flux(wtsol2, x_cheb, \"No-Flux Boundaries\")"
   ]
  },
  {
   "cell_type": "code",
   "execution_count": 23,
   "metadata": {},
   "outputs": [
    {
     "data": {
      "text/plain": [
       "(1922, 9)"
      ]
     },
     "execution_count": 23,
     "metadata": {},
     "output_type": "execute_result"
    }
   ],
   "source": [
    "A2.shape"
   ]
  }
 ],
 "metadata": {
  "kernelspec": {
   "display_name": "Python 3",
   "language": "python",
   "name": "python3"
  },
  "language_info": {
   "codemirror_mode": {
    "name": "ipython",
    "version": 3
   },
   "file_extension": ".py",
   "mimetype": "text/x-python",
   "name": "python",
   "nbconvert_exporter": "python",
   "pygments_lexer": "ipython3",
   "version": "3.11.5"
  }
 },
 "nbformat": 4,
 "nbformat_minor": 2
}
