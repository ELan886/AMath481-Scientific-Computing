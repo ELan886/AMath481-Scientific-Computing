{
 "cells": [
  {
   "cell_type": "code",
   "execution_count": 1,
   "metadata": {},
   "outputs": [],
   "source": [
    "import numpy as np\n",
    "from scipy.misc import derivative\n",
    "import math"
   ]
  },
  {
   "cell_type": "code",
   "execution_count": 2,
   "metadata": {},
   "outputs": [],
   "source": [
    "def f(x):\n",
    "    return x * np.sin(3 * x) - np.exp(x)"
   ]
  },
  {
   "cell_type": "code",
   "execution_count": 3,
   "metadata": {},
   "outputs": [],
   "source": [
    "# def df(x):\n",
    "#    return  derivative(f, x, dx = 1e-6)\n",
    "\n",
    "def df(x):\n",
    "    return np.sin(3 * x) + x * np.cos(3 * x) * 3 - np.exp(x)"
   ]
  },
  {
   "cell_type": "code",
   "execution_count": 4,
   "metadata": {},
   "outputs": [],
   "source": [
    "def Newton(x_0, max_iter, tol):\n",
    "    x = [x_0]\n",
    "    for i in range(max_iter):\n",
    "\n",
    "        x_new = x_0 - f(x_0)/df(x_0)\n",
    "        x.append(x_new)\n",
    "\n",
    "        if abs(f(x_0)) < tol:\n",
    "            print(\"The x value that satisfies f(x) = 0 is \", x_new, \"in \", i+1, \"iterations\")\n",
    "            break\n",
    "        \n",
    "        x_0 = x_new\n",
    "\n",
    "    return np.array(x), len(x)-1"
   ]
  },
  {
   "cell_type": "code",
   "execution_count": 5,
   "metadata": {},
   "outputs": [
    {
     "name": "stdout",
     "output_type": "stream",
     "text": [
      "The x value that satisfies f(x) = 0 is  -0.57078962246829 in  11 iterations\n",
      "[-1.6         3.19799514  2.46440244  1.2035359   0.65020146 -0.11692334\n",
      " -0.66052349 -0.52192654 -0.56655274 -0.57074658 -0.57078962 -0.57078962]\n",
      "11\n"
     ]
    }
   ],
   "source": [
    "x_val, iter = Newton(-1.6, 500, 1e-6)\n",
    "print(x_val)\n",
    "print(iter)"
   ]
  },
  {
   "cell_type": "code",
   "execution_count": 6,
   "metadata": {},
   "outputs": [
    {
     "data": {
      "text/plain": [
       "array([-1.6       ,  3.19799514,  2.46440244,  1.2035359 ,  0.65020146,\n",
       "       -0.11692334, -0.66052349, -0.52192654, -0.56655274, -0.57074658,\n",
       "       -0.57078962, -0.57078962])"
      ]
     },
     "execution_count": 6,
     "metadata": {},
     "output_type": "execute_result"
    }
   ],
   "source": [
    "A1 = x_val\n",
    "A1"
   ]
  },
  {
   "cell_type": "code",
   "execution_count": 7,
   "metadata": {},
   "outputs": [],
   "source": [
    "def bisection(a, b, max_iter, tol):\n",
    "    mid = []\n",
    "    for i in range(max_iter):\n",
    "        c = (a+b)/2.0\n",
    "        mid.append(c)\n",
    "        y = f(c)\n",
    "        if abs(y) < tol:\n",
    "            print(\"The x value that satisfies f(x) = 0 is \", c, \"in \", i+1, \"iterations\")\n",
    "            break\n",
    "        if y * f(a) > 0:\n",
    "            a = c\n",
    "        else:\n",
    "            b = c\n",
    "\n",
    "    return np.array(mid), i+1\n"
   ]
  },
  {
   "cell_type": "code",
   "execution_count": 8,
   "metadata": {},
   "outputs": [
    {
     "name": "stdout",
     "output_type": "stream",
     "text": [
      "The x value that satisfies f(x) = 0 is  -0.5707893371582031 in  17 iterations\n",
      "[-0.55       -0.625      -0.5875     -0.56875    -0.578125   -0.5734375\n",
      " -0.57109375 -0.56992188 -0.57050781 -0.57080078 -0.5706543  -0.57072754\n",
      " -0.57076416 -0.57078247 -0.57079163 -0.57078705 -0.57078934]\n",
      "17\n"
     ]
    }
   ],
   "source": [
    "mid, b_iter = bisection(-0.7, -0.4, 500, 1e-6)\n",
    "print(mid)\n",
    "print(b_iter)"
   ]
  },
  {
   "cell_type": "code",
   "execution_count": 9,
   "metadata": {},
   "outputs": [],
   "source": [
    "A2 = mid\n",
    "A3 = np.array([iter, b_iter])"
   ]
  },
  {
   "cell_type": "code",
   "execution_count": 10,
   "metadata": {},
   "outputs": [],
   "source": [
    "A = np.array([[1,2],[-1,1]])\n",
    "B = np.array([[2,0],[0,2]])\n",
    "C = np.array([[2,0,-3],[0,0,-1]])\n",
    "D = np.array([[1,2],[2,3],[-1,0]])\n",
    "x = np.array([[1],[0]])\n",
    "y = np.array([[0],[1]])\n",
    "z = np.array([[1],[2],[-1]])"
   ]
  },
  {
   "cell_type": "code",
   "execution_count": 11,
   "metadata": {},
   "outputs": [],
   "source": [
    "A4 = A+B\n",
    "A5 = (3*x - 4*y).flatten()\n",
    "A6 = (A @ x).flatten()\n",
    "A7 = (B @ (x-y)).flatten()\n",
    "A8 = (D @ x).flatten()\n",
    "A9 = (D @ y + z).flatten()\n",
    "A10 = A @ B\n",
    "A11 = B @ C\n",
    "A12 = C @ D"
   ]
  }
 ],
 "metadata": {
  "kernelspec": {
   "display_name": "Python 3",
   "language": "python",
   "name": "python3"
  },
  "language_info": {
   "codemirror_mode": {
    "name": "ipython",
    "version": 3
   },
   "file_extension": ".py",
   "mimetype": "text/x-python",
   "name": "python",
   "nbconvert_exporter": "python",
   "pygments_lexer": "ipython3",
   "version": "3.12.6"
  }
 },
 "nbformat": 4,
 "nbformat_minor": 2
}
